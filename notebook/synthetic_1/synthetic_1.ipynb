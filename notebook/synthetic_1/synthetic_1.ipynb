{
 "cells": [
  {
   "cell_type": "code",
   "execution_count": 1,
   "id": "e9ce36d3-7d39-41d8-a856-17c4526ec89a",
   "metadata": {
    "tags": []
   },
   "outputs": [],
   "source": [
    "import os\n",
    "import pickle\n",
    "import numpy as np\n",
    "from matplotlib import pyplot as plt"
   ]
  },
  {
   "cell_type": "code",
   "execution_count": 2,
   "id": "47129612-3e92-414d-acec-11565b466e97",
   "metadata": {
    "tags": []
   },
   "outputs": [],
   "source": [
    "# Set random seed for reproducibility\n",
    "np.random.seed(42)\n",
    "\n",
    "# Generate data\n",
    "A =  np.array([[1,2,3]])\n",
    "\n",
    "# number of training samples\n",
    "n_train = 10000\n",
    "x_obs = np.linspace(-0.2, 0.2, n_train)\n",
    "noise = 0.02 * np.random.normal(0, 1, (n_train, 6))\n",
    "\n",
    "tmp = x_obs.reshape(len(x_obs), 1) @ A\n",
    "y_obs = np.concatenate((np.sin(tmp), np.cos(tmp)), axis=1) + noise\n",
    "\n",
    "# Set plot limits and labels\n",
    "xlims = [-0.2, 0.2]\n",
    "\n",
    "x_train = x_obs\n",
    "y_train = y_obs\n",
    "\n",
    "# number of test samples\n",
    "n_test = 100\n",
    "x_test = np.linspace(xlims[0], xlims[1], n_test)\n",
    "noise_test = 0.02 * np.random.normal(0, 1, (n_test, 6))\n",
    "\n",
    "tmp_test = x_test.reshape(len(x_test), 1) @ A\n",
    "y_test = np.concatenate((np.sin(tmp_test), np.cos(tmp_test)), axis=1) + noise_test"
   ]
  },
  {
   "cell_type": "code",
   "execution_count": 3,
   "id": "c5b67f45-4013-4767-beff-fbb962d98348",
   "metadata": {
    "tags": []
   },
   "outputs": [],
   "source": [
    "os.chdir(\"../../\")\n",
    "cwd = os.getcwd()\n",
    "\n",
    "X_train_path = os.path.join(cwd, \"folds\", \"synthetic_1_fold_1_X_train.txt\")\n",
    "X_test_path = os.path.join(cwd, \"folds\", \"synthetic_1_fold_1_X_test.txt\")\n",
    "Y_train_path = os.path.join(cwd, \"folds\", \"synthetic_1_fold_1_Y_train.txt\")\n",
    "Y_test_path = os.path.join(cwd, \"folds\", \"synthetic_1_fold_1_Y_test.txt\")\n",
    "\n",
    "np.savetxt(X_train_path, x_train)\n",
    "np.savetxt(X_test_path, x_test)\n",
    "np.savetxt(Y_train_path, y_train)\n",
    "np.savetxt(Y_test_path, y_test)"
   ]
  },
  {
   "cell_type": "code",
   "execution_count": null,
   "id": "442d9a49-c659-4cad-9887-7423757b5516",
   "metadata": {},
   "outputs": [],
   "source": []
  },
  {
   "cell_type": "code",
   "execution_count": null,
   "id": "d33ea5e0-86a2-40a9-ac97-7b501e76cd69",
   "metadata": {},
   "outputs": [],
   "source": []
  }
 ],
 "metadata": {
  "kernelspec": {
   "display_name": "Python 3 (ipykernel)",
   "language": "python",
   "name": "python3"
  },
  "language_info": {
   "codemirror_mode": {
    "name": "ipython",
    "version": 3
   },
   "file_extension": ".py",
   "mimetype": "text/x-python",
   "name": "python",
   "nbconvert_exporter": "python",
   "pygments_lexer": "ipython3",
   "version": "3.11.4"
  }
 },
 "nbformat": 4,
 "nbformat_minor": 5
}
